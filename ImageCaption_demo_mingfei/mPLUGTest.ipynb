{
  "nbformat": 4,
  "nbformat_minor": 0,
  "metadata": {
    "colab": {
      "provenance": [],
      "authorship_tag": "ABX9TyOnmwOFW+fPh1gSqJ8Rx3Gh",
      "include_colab_link": true
    },
    "kernelspec": {
      "name": "python3",
      "display_name": "Python 3"
    },
    "language_info": {
      "name": "python"
    }
  },
  "cells": [
    {
      "cell_type": "markdown",
      "metadata": {
        "id": "view-in-github",
        "colab_type": "text"
      },
      "source": [
        "<a href=\"https://colab.research.google.com/github/MiaMuo/cc22-23-storyteller/blob/main/mPLUGTest.ipynb\" target=\"_parent\"><img src=\"https://colab.research.google.com/assets/colab-badge.svg\" alt=\"Open In Colab\"/></a>"
      ]
    },
    {
      "cell_type": "markdown",
      "source": [
        "https://github.com/alibaba/AliceMind/tree/main/mPLUG"
      ],
      "metadata": {
        "id": "VCt-AVtdXYrj"
      }
    },
    {
      "cell_type": "markdown",
      "source": [
        "1. clone the whole repo from Alibaba/AliceMind"
      ],
      "metadata": {
        "id": "EbKggVf6XhW9"
      }
    },
    {
      "cell_type": "code",
      "execution_count": 1,
      "metadata": {
        "colab": {
          "base_uri": "https://localhost:8080/"
        },
        "id": "ND7T1-OiXBxZ",
        "outputId": "86b5078b-f7ca-414a-cf97-0b63c58f7f59"
      },
      "outputs": [
        {
          "output_type": "stream",
          "name": "stdout",
          "text": [
            "fatal: destination path 'AliceMind' already exists and is not an empty directory.\n"
          ]
        }
      ],
      "source": [
        "!git clone https://github.com/alibaba/AliceMind.git"
      ]
    },
    {
      "cell_type": "markdown",
      "source": [
        "\n",
        "\n",
        "**mPlug image Caption Model**\n",
        "https://github.com/alibaba/AliceMind/blob/main/mPLUG/models/model_caption_mplug.py\n",
        "\n",
        "> Download COCO Caption dataset from the original websites.\n",
        "\n",
        "https://github.com/alibaba/AliceMind/blob/main/mPLUG/dataset/caption_dataset.py\n",
        "\n",
        "> Download and extract the provided dataset json files.\n",
        "\n",
        "\n",
        "\n",
        "> Download language evalution tool(**language_evalution**).\n",
        "\n",
        "https://alice-open.oss-cn-zhangjiakou.aliyuncs.com/mPLUG/language_evalution.tar\n",
        "\n",
        "\n",
        "> In configs/caption_mplug_base.yaml, set the paths for the json files and the image paths.\n",
        "\n",
        "**yaml files**\n",
        "https://github.com/alibaba/AliceMind/blob/main/mPLUG/configs/caption_mplug_base.yaml\n",
        "\n",
        "https://github.com/alibaba/AliceMind/blob/main/mPLUG/configs/caption_mplug_large.yaml\n",
        "\n",
        "\n",
        "> Finetune the pre-trained mplug_base or large model using 8 A100 GPUs:\n",
        "\n",
        "https://github.com/alibaba/AliceMind/blob/main/mPLUG/scripts/caption_mplug_base.sh\n",
        "https://github.com/alibaba/AliceMind/blob/main/mPLUG/scripts/caption_mplug_large.sh\n",
        "\n",
        "```\n",
        "sh scripts/caption_mplug_base.sh\n",
        "sh scripts/caption_mplug_large.sh\n",
        "```\n",
        "\n",
        "\n",
        "\n",
        "\n",
        "\n",
        "\n",
        "\n",
        "\n",
        "\n",
        "\n",
        "\n",
        "\n",
        "\n"
      ],
      "metadata": {
        "id": "3po0ELWOjdls"
      }
    },
    {
      "cell_type": "code",
      "source": [
        "!pip3 install torch==1.13.0\n",
        "!pip3 install transformers==4.14.1\n",
        "!pip3 install timm==0.4.9\n",
        "!pip3 install decord\n",
        "!pip3 install ftfy\n",
        "!pip3 install oss2\n",
        "!pip3 install opencv-python\n",
        "!pip3 install more_itertools\n",
        "!pip3 install colorlog\n",
        "\n",
        "!wget https://alice-open.oss-cn-zhangjiakou.aliyuncs.com/mPLUG/language_evalution.tar"
      ],
      "metadata": {
        "colab": {
          "base_uri": "https://localhost:8080/"
        },
        "id": "mzrLBmGyeywH",
        "outputId": "091755d8-80c6-46ec-8701-92940d0fd144"
      },
      "execution_count": 2,
      "outputs": [
        {
          "output_type": "stream",
          "name": "stdout",
          "text": [
            "Looking in indexes: https://pypi.org/simple, https://us-python.pkg.dev/colab-wheels/public/simple/\n",
            "Requirement already satisfied: torch==1.13.0 in /usr/local/lib/python3.8/dist-packages (1.13.0)\n",
            "Requirement already satisfied: typing-extensions in /usr/local/lib/python3.8/dist-packages (from torch==1.13.0) (4.4.0)\n",
            "Requirement already satisfied: nvidia-cuda-runtime-cu11==11.7.99 in /usr/local/lib/python3.8/dist-packages (from torch==1.13.0) (11.7.99)\n",
            "Requirement already satisfied: nvidia-cudnn-cu11==8.5.0.96 in /usr/local/lib/python3.8/dist-packages (from torch==1.13.0) (8.5.0.96)\n",
            "Requirement already satisfied: nvidia-cuda-nvrtc-cu11==11.7.99 in /usr/local/lib/python3.8/dist-packages (from torch==1.13.0) (11.7.99)\n",
            "Requirement already satisfied: nvidia-cublas-cu11==11.10.3.66 in /usr/local/lib/python3.8/dist-packages (from torch==1.13.0) (11.10.3.66)\n",
            "Requirement already satisfied: wheel in /usr/local/lib/python3.8/dist-packages (from nvidia-cublas-cu11==11.10.3.66->torch==1.13.0) (0.38.4)\n",
            "Requirement already satisfied: setuptools in /usr/local/lib/python3.8/dist-packages (from nvidia-cublas-cu11==11.10.3.66->torch==1.13.0) (57.4.0)\n",
            "Looking in indexes: https://pypi.org/simple, https://us-python.pkg.dev/colab-wheels/public/simple/\n",
            "Requirement already satisfied: transformers==4.14.1 in /usr/local/lib/python3.8/dist-packages (4.14.1)\n",
            "Requirement already satisfied: pyyaml>=5.1 in /usr/local/lib/python3.8/dist-packages (from transformers==4.14.1) (6.0)\n",
            "Requirement already satisfied: packaging>=20.0 in /usr/local/lib/python3.8/dist-packages (from transformers==4.14.1) (21.3)\n",
            "Requirement already satisfied: requests in /usr/local/lib/python3.8/dist-packages (from transformers==4.14.1) (2.23.0)\n",
            "Requirement already satisfied: numpy>=1.17 in /usr/local/lib/python3.8/dist-packages (from transformers==4.14.1) (1.21.6)\n",
            "Requirement already satisfied: tqdm>=4.27 in /usr/local/lib/python3.8/dist-packages (from transformers==4.14.1) (4.64.1)\n",
            "Requirement already satisfied: huggingface-hub<1.0,>=0.1.0 in /usr/local/lib/python3.8/dist-packages (from transformers==4.14.1) (0.11.1)\n",
            "Requirement already satisfied: tokenizers<0.11,>=0.10.1 in /usr/local/lib/python3.8/dist-packages (from transformers==4.14.1) (0.10.3)\n",
            "Requirement already satisfied: filelock in /usr/local/lib/python3.8/dist-packages (from transformers==4.14.1) (3.8.2)\n",
            "Requirement already satisfied: regex!=2019.12.17 in /usr/local/lib/python3.8/dist-packages (from transformers==4.14.1) (2022.6.2)\n",
            "Requirement already satisfied: sacremoses in /usr/local/lib/python3.8/dist-packages (from transformers==4.14.1) (0.0.53)\n",
            "Requirement already satisfied: typing-extensions>=3.7.4.3 in /usr/local/lib/python3.8/dist-packages (from huggingface-hub<1.0,>=0.1.0->transformers==4.14.1) (4.4.0)\n",
            "Requirement already satisfied: pyparsing!=3.0.5,>=2.0.2 in /usr/local/lib/python3.8/dist-packages (from packaging>=20.0->transformers==4.14.1) (3.0.9)\n",
            "Requirement already satisfied: certifi>=2017.4.17 in /usr/local/lib/python3.8/dist-packages (from requests->transformers==4.14.1) (2022.12.7)\n",
            "Requirement already satisfied: urllib3!=1.25.0,!=1.25.1,<1.26,>=1.21.1 in /usr/local/lib/python3.8/dist-packages (from requests->transformers==4.14.1) (1.24.3)\n",
            "Requirement already satisfied: chardet<4,>=3.0.2 in /usr/local/lib/python3.8/dist-packages (from requests->transformers==4.14.1) (3.0.4)\n",
            "Requirement already satisfied: idna<3,>=2.5 in /usr/local/lib/python3.8/dist-packages (from requests->transformers==4.14.1) (2.10)\n",
            "Requirement already satisfied: six in /usr/local/lib/python3.8/dist-packages (from sacremoses->transformers==4.14.1) (1.15.0)\n",
            "Requirement already satisfied: click in /usr/local/lib/python3.8/dist-packages (from sacremoses->transformers==4.14.1) (7.1.2)\n",
            "Requirement already satisfied: joblib in /usr/local/lib/python3.8/dist-packages (from sacremoses->transformers==4.14.1) (1.2.0)\n",
            "Looking in indexes: https://pypi.org/simple, https://us-python.pkg.dev/colab-wheels/public/simple/\n",
            "Requirement already satisfied: timm==0.4.9 in /usr/local/lib/python3.8/dist-packages (0.4.9)\n",
            "Requirement already satisfied: torch>=1.4 in /usr/local/lib/python3.8/dist-packages (from timm==0.4.9) (1.13.0)\n",
            "Requirement already satisfied: torchvision in /usr/local/lib/python3.8/dist-packages (from timm==0.4.9) (0.14.0+cu116)\n",
            "Requirement already satisfied: nvidia-cuda-runtime-cu11==11.7.99 in /usr/local/lib/python3.8/dist-packages (from torch>=1.4->timm==0.4.9) (11.7.99)\n",
            "Requirement already satisfied: nvidia-cudnn-cu11==8.5.0.96 in /usr/local/lib/python3.8/dist-packages (from torch>=1.4->timm==0.4.9) (8.5.0.96)\n",
            "Requirement already satisfied: nvidia-cuda-nvrtc-cu11==11.7.99 in /usr/local/lib/python3.8/dist-packages (from torch>=1.4->timm==0.4.9) (11.7.99)\n",
            "Requirement already satisfied: typing-extensions in /usr/local/lib/python3.8/dist-packages (from torch>=1.4->timm==0.4.9) (4.4.0)\n",
            "Requirement already satisfied: nvidia-cublas-cu11==11.10.3.66 in /usr/local/lib/python3.8/dist-packages (from torch>=1.4->timm==0.4.9) (11.10.3.66)\n",
            "Requirement already satisfied: wheel in /usr/local/lib/python3.8/dist-packages (from nvidia-cublas-cu11==11.10.3.66->torch>=1.4->timm==0.4.9) (0.38.4)\n",
            "Requirement already satisfied: setuptools in /usr/local/lib/python3.8/dist-packages (from nvidia-cublas-cu11==11.10.3.66->torch>=1.4->timm==0.4.9) (57.4.0)\n",
            "Requirement already satisfied: requests in /usr/local/lib/python3.8/dist-packages (from torchvision->timm==0.4.9) (2.23.0)\n",
            "Requirement already satisfied: numpy in /usr/local/lib/python3.8/dist-packages (from torchvision->timm==0.4.9) (1.21.6)\n",
            "Requirement already satisfied: pillow!=8.3.*,>=5.3.0 in /usr/local/lib/python3.8/dist-packages (from torchvision->timm==0.4.9) (7.1.2)\n",
            "Requirement already satisfied: idna<3,>=2.5 in /usr/local/lib/python3.8/dist-packages (from requests->torchvision->timm==0.4.9) (2.10)\n",
            "Requirement already satisfied: certifi>=2017.4.17 in /usr/local/lib/python3.8/dist-packages (from requests->torchvision->timm==0.4.9) (2022.12.7)\n",
            "Requirement already satisfied: chardet<4,>=3.0.2 in /usr/local/lib/python3.8/dist-packages (from requests->torchvision->timm==0.4.9) (3.0.4)\n",
            "Requirement already satisfied: urllib3!=1.25.0,!=1.25.1,<1.26,>=1.21.1 in /usr/local/lib/python3.8/dist-packages (from requests->torchvision->timm==0.4.9) (1.24.3)\n",
            "Looking in indexes: https://pypi.org/simple, https://us-python.pkg.dev/colab-wheels/public/simple/\n",
            "Requirement already satisfied: decord in /usr/local/lib/python3.8/dist-packages (0.6.0)\n",
            "Requirement already satisfied: numpy>=1.14.0 in /usr/local/lib/python3.8/dist-packages (from decord) (1.21.6)\n",
            "Looking in indexes: https://pypi.org/simple, https://us-python.pkg.dev/colab-wheels/public/simple/\n",
            "Requirement already satisfied: ftfy in /usr/local/lib/python3.8/dist-packages (6.1.1)\n",
            "Requirement already satisfied: wcwidth>=0.2.5 in /usr/local/lib/python3.8/dist-packages (from ftfy) (0.2.5)\n",
            "Looking in indexes: https://pypi.org/simple, https://us-python.pkg.dev/colab-wheels/public/simple/\n",
            "Requirement already satisfied: oss2 in /usr/local/lib/python3.8/dist-packages (2.16.0)\n",
            "Requirement already satisfied: aliyun-python-sdk-core>=2.13.12 in /usr/local/lib/python3.8/dist-packages (from oss2) (2.13.36)\n",
            "Requirement already satisfied: aliyun-python-sdk-kms>=2.4.1 in /usr/local/lib/python3.8/dist-packages (from oss2) (2.16.0)\n",
            "Requirement already satisfied: pycryptodome>=3.4.7 in /usr/local/lib/python3.8/dist-packages (from oss2) (3.16.0)\n",
            "Requirement already satisfied: six in /usr/local/lib/python3.8/dist-packages (from oss2) (1.15.0)\n",
            "Requirement already satisfied: crcmod>=1.7 in /usr/local/lib/python3.8/dist-packages (from oss2) (1.7)\n",
            "Requirement already satisfied: requests!=2.9.0 in /usr/local/lib/python3.8/dist-packages (from oss2) (2.23.0)\n",
            "Requirement already satisfied: cryptography>=2.6.0 in /usr/local/lib/python3.8/dist-packages (from aliyun-python-sdk-core>=2.13.12->oss2) (39.0.0)\n",
            "Requirement already satisfied: jmespath<1.0.0,>=0.9.3 in /usr/local/lib/python3.8/dist-packages (from aliyun-python-sdk-core>=2.13.12->oss2) (0.10.0)\n",
            "Requirement already satisfied: cffi>=1.12 in /usr/local/lib/python3.8/dist-packages (from cryptography>=2.6.0->aliyun-python-sdk-core>=2.13.12->oss2) (1.15.1)\n",
            "Requirement already satisfied: pycparser in /usr/local/lib/python3.8/dist-packages (from cffi>=1.12->cryptography>=2.6.0->aliyun-python-sdk-core>=2.13.12->oss2) (2.21)\n",
            "Requirement already satisfied: chardet<4,>=3.0.2 in /usr/local/lib/python3.8/dist-packages (from requests!=2.9.0->oss2) (3.0.4)\n",
            "Requirement already satisfied: urllib3!=1.25.0,!=1.25.1,<1.26,>=1.21.1 in /usr/local/lib/python3.8/dist-packages (from requests!=2.9.0->oss2) (1.24.3)\n",
            "Requirement already satisfied: certifi>=2017.4.17 in /usr/local/lib/python3.8/dist-packages (from requests!=2.9.0->oss2) (2022.12.7)\n",
            "Requirement already satisfied: idna<3,>=2.5 in /usr/local/lib/python3.8/dist-packages (from requests!=2.9.0->oss2) (2.10)\n",
            "Looking in indexes: https://pypi.org/simple, https://us-python.pkg.dev/colab-wheels/public/simple/\n",
            "Requirement already satisfied: opencv-python in /usr/local/lib/python3.8/dist-packages (4.6.0.66)\n",
            "Requirement already satisfied: numpy>=1.14.5 in /usr/local/lib/python3.8/dist-packages (from opencv-python) (1.21.6)\n",
            "Looking in indexes: https://pypi.org/simple, https://us-python.pkg.dev/colab-wheels/public/simple/\n",
            "Requirement already satisfied: more_itertools in /usr/local/lib/python3.8/dist-packages (9.0.0)\n",
            "Looking in indexes: https://pypi.org/simple, https://us-python.pkg.dev/colab-wheels/public/simple/\n",
            "Requirement already satisfied: colorlog in /usr/local/lib/python3.8/dist-packages (6.7.0)\n",
            "--2023-01-03 12:52:16--  https://alice-open.oss-cn-zhangjiakou.aliyuncs.com/mPLUG/language_evalution.tar\n",
            "Resolving alice-open.oss-cn-zhangjiakou.aliyuncs.com (alice-open.oss-cn-zhangjiakou.aliyuncs.com)... 47.92.17.98\n",
            "Connecting to alice-open.oss-cn-zhangjiakou.aliyuncs.com (alice-open.oss-cn-zhangjiakou.aliyuncs.com)|47.92.17.98|:443... connected.\n",
            "HTTP request sent, awaiting response... 404 Not Found\n",
            "2023-01-03 12:52:16 ERROR 404: Not Found.\n",
            "\n"
          ]
        }
      ]
    },
    {
      "cell_type": "code",
      "source": [
        "!cd AliceMind/mPLUG && chmod a+x ./scripts/caption_mplug_base.sh && ./scripts/caption_mplug_base.sh\n"
      ],
      "metadata": {
        "colab": {
          "base_uri": "https://localhost:8080/"
        },
        "id": "0GfoMPFaYdf8",
        "outputId": "e7193d77-54b7-4ba4-de22-78bc1b048123"
      },
      "execution_count": 3,
      "outputs": [
        {
          "output_type": "stream",
          "name": "stdout",
          "text": [
            "Looking in indexes: https://pypi.org/simple, https://us-python.pkg.dev/colab-wheels/public/simple/\n",
            "Requirement already satisfied: colorlog in /usr/local/lib/python3.8/dist-packages (6.7.0)\n",
            "Hit:1 https://cloud.r-project.org/bin/linux/ubuntu bionic-cran40/ InRelease\n",
            "Get:2 http://security.ubuntu.com/ubuntu bionic-security InRelease [88.7 kB]\n",
            "Ign:3 https://developer.download.nvidia.com/compute/machine-learning/repos/ubuntu1804/x86_64  InRelease\n",
            "Hit:4 https://developer.download.nvidia.com/compute/cuda/repos/ubuntu1804/x86_64  InRelease\n",
            "Hit:5 https://developer.download.nvidia.com/compute/machine-learning/repos/ubuntu1804/x86_64  Release\n",
            "Hit:6 http://archive.ubuntu.com/ubuntu bionic InRelease\n",
            "Hit:7 http://ppa.launchpad.net/c2d4u.team/c2d4u4.0+/ubuntu bionic InRelease\n",
            "Get:8 http://archive.ubuntu.com/ubuntu bionic-updates InRelease [88.7 kB]\n",
            "Hit:10 http://ppa.launchpad.net/cran/libgit2/ubuntu bionic InRelease\n",
            "Get:11 http://archive.ubuntu.com/ubuntu bionic-backports InRelease [83.3 kB]\n",
            "Hit:12 http://ppa.launchpad.net/deadsnakes/ppa/ubuntu bionic InRelease\n",
            "Hit:13 http://ppa.launchpad.net/graphics-drivers/ppa/ubuntu bionic InRelease\n",
            "Get:14 http://security.ubuntu.com/ubuntu bionic-security/universe amd64 Packages [1,568 kB]\n",
            "Get:15 http://security.ubuntu.com/ubuntu bionic-security/main amd64 Packages [3,100 kB]\n",
            "Fetched 4,929 kB in 6s (798 kB/s)\n",
            "Reading package lists... Done\n",
            "Reading package lists... Done\n",
            "Building dependency tree       \n",
            "Reading state information... Done\n",
            "default-jdk is already the newest version (2:1.11-68ubuntu1~18.04.1).\n",
            "The following package was automatically installed and is no longer required:\n",
            "  libnvidia-common-460\n",
            "Use 'apt autoremove' to remove it.\n",
            "0 upgraded, 0 newly installed, 0 to remove and 20 not upgraded.\n",
            "Reading package lists... Done\n",
            "Building dependency tree       \n",
            "Reading state information... Done\n",
            "default-jre is already the newest version (2:1.11-68ubuntu1~18.04.1).\n",
            "The following package was automatically installed and is no longer required:\n",
            "  libnvidia-common-460\n",
            "Use 'apt autoremove' to remove it.\n",
            "0 upgraded, 0 newly installed, 0 to remove and 20 not upgraded.\n",
            "Looking in indexes: https://pypi.org/simple, https://us-python.pkg.dev/colab-wheels/public/simple/\n",
            "Collecting git+git://github.com/j-min/language-evaluation@master\n",
            "  Cloning git://github.com/j-min/language-evaluation (to revision master) to /tmp/pip-req-build-lycq6di1\n",
            "  Running command git clone -q git://github.com/j-min/language-evaluation /tmp/pip-req-build-lycq6di1\n",
            "  fatal: unable to connect to github.com:\n",
            "  github.com[0: 20.27.177.113]: errno=Connection timed out\n",
            "\n",
            "\u001b[33mWARNING: Discarding git+git://github.com/j-min/language-evaluation@master. Command errored out with exit status 128: git clone -q git://github.com/j-min/language-evaluation /tmp/pip-req-build-lycq6di1 Check the logs for full command output.\u001b[0m\n",
            "\u001b[31mERROR: Command errored out with exit status 128: git clone -q git://github.com/j-min/language-evaluation /tmp/pip-req-build-lycq6di1 Check the logs for full command output.\u001b[0m\n",
            "Traceback (most recent call last):\n",
            "  File \"<string>\", line 1, in <module>\n",
            "ModuleNotFoundError: No module named 'language_evaluation'\n",
            "/usr/local/lib/python3.8/dist-packages/torch/distributed/launch.py:180: FutureWarning: The module torch.distributed.launch is deprecated\n",
            "and will be removed in future. Use torchrun.\n",
            "Note that --use_env is set by default in torchrun.\n",
            "If your script expects `--local_rank` argument to be set, please\n",
            "change it to read from `os.environ['LOCAL_RANK']` instead. See \n",
            "https://pytorch.org/docs/stable/distributed.html#launch-utility for \n",
            "further instructions\n",
            "\n",
            "  warnings.warn(\n",
            "WARNING:torch.distributed.run:\n",
            "*****************************************\n",
            "Setting OMP_NUM_THREADS environment variable for each process to be 1 in default, to avoid your system being overloaded, please further tune the variable for optimal performance in your application as needed. \n",
            "*****************************************\n",
            "Traceback (most recent call last):\n",
            "  File \"caption_mplug.py\", line 3, in <module>\n",
            "    import ruamel_yaml as yaml\n",
            "ModuleNotFoundError: No module named 'ruamel_yaml'\n",
            "Traceback (most recent call last):\n",
            "  File \"caption_mplug.py\", line 3, in <module>\n",
            "    import ruamel_yaml as yaml\n",
            "ModuleNotFoundError: No module named 'ruamel_yaml'\n",
            "Traceback (most recent call last):\n",
            "  File \"caption_mplug.py\", line 3, in <module>\n",
            "    import ruamel_yaml as yaml\n",
            "ModuleNotFoundError: No module named 'ruamel_yaml'\n",
            "Traceback (most recent call last):\n",
            "  File \"caption_mplug.py\", line 3, in <module>\n",
            "    import ruamel_yaml as yaml\n",
            "ModuleNotFoundError: No module named 'ruamel_yaml'\n",
            "ERROR:torch.distributed.elastic.multiprocessing.api:failed (exitcode: 1) local_rank: 0 (pid: 24211) of binary: /usr/bin/python3\n",
            "Traceback (most recent call last):\n",
            "  File \"/usr/lib/python3.8/runpy.py\", line 194, in _run_module_as_main\n",
            "    return _run_code(code, main_globals, None,\n",
            "  File \"/usr/lib/python3.8/runpy.py\", line 87, in _run_code\n",
            "    exec(code, run_globals)\n",
            "  File \"/usr/local/lib/python3.8/dist-packages/torch/distributed/launch.py\", line 195, in <module>\n",
            "    main()\n",
            "  File \"/usr/local/lib/python3.8/dist-packages/torch/distributed/launch.py\", line 191, in main\n",
            "    launch(args)\n",
            "  File \"/usr/local/lib/python3.8/dist-packages/torch/distributed/launch.py\", line 176, in launch\n",
            "    run(args)\n",
            "  File \"/usr/local/lib/python3.8/dist-packages/torch/distributed/run.py\", line 753, in run\n",
            "    elastic_launch(\n",
            "  File \"/usr/local/lib/python3.8/dist-packages/torch/distributed/launcher/api.py\", line 132, in __call__\n",
            "    return launch_agent(self._config, self._entrypoint, list(args))\n",
            "  File \"/usr/local/lib/python3.8/dist-packages/torch/distributed/launcher/api.py\", line 246, in launch_agent\n",
            "    raise ChildFailedError(\n",
            "torch.distributed.elastic.multiprocessing.errors.ChildFailedError: \n",
            "============================================================\n",
            "caption_mplug.py FAILED\n",
            "------------------------------------------------------------\n",
            "Failures:\n",
            "[1]:\n",
            "  time      : 2023-01-03_12:54:53\n",
            "  host      : 2933d747c40c\n",
            "  rank      : 1 (local_rank: 1)\n",
            "  exitcode  : 1 (pid: 24212)\n",
            "  error_file: <N/A>\n",
            "  traceback : To enable traceback see: https://pytorch.org/docs/stable/elastic/errors.html\n",
            "[2]:\n",
            "  time      : 2023-01-03_12:54:53\n",
            "  host      : 2933d747c40c\n",
            "  rank      : 2 (local_rank: 2)\n",
            "  exitcode  : 1 (pid: 24213)\n",
            "  error_file: <N/A>\n",
            "  traceback : To enable traceback see: https://pytorch.org/docs/stable/elastic/errors.html\n",
            "[3]:\n",
            "  time      : 2023-01-03_12:54:53\n",
            "  host      : 2933d747c40c\n",
            "  rank      : 3 (local_rank: 3)\n",
            "  exitcode  : 1 (pid: 24214)\n",
            "  error_file: <N/A>\n",
            "  traceback : To enable traceback see: https://pytorch.org/docs/stable/elastic/errors.html\n",
            "------------------------------------------------------------\n",
            "Root Cause (first observed failure):\n",
            "[0]:\n",
            "  time      : 2023-01-03_12:54:53\n",
            "  host      : 2933d747c40c\n",
            "  rank      : 0 (local_rank: 0)\n",
            "  exitcode  : 1 (pid: 24211)\n",
            "  error_file: <N/A>\n",
            "  traceback : To enable traceback see: https://pytorch.org/docs/stable/elastic/errors.html\n",
            "============================================================\n"
          ]
        }
      ]
    }
  ]
}