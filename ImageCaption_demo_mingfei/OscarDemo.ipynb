{
  "cells": [
    {
      "cell_type": "markdown",
      "metadata": {
        "colab_type": "text",
        "id": "view-in-github"
      },
      "source": [
        "<a href=\"https://colab.research.google.com/github/MiaMuo/cc22-23-storyteller/blob/main/demo/OscarDemo.ipynb\" target=\"_parent\"><img src=\"https://colab.research.google.com/assets/colab-badge.svg\" alt=\"Open In Colab\"/></a>"
      ]
    },
    {
      "cell_type": "markdown",
      "metadata": {
        "id": "9RSX-xWjNd-i"
      },
      "source": [
        "[Oscar: Object-Semantics Aligned Pre-training for Vision-Language Tasks](https://arxiv.org/pdf/2004.06165.pdf)\n",
        "\n",
        "Methode VLP: Version-Language Pretraining\n",
        "\n",
        "Aplliancaiton: Version QA, Image Caption, image-text retrieval..\n",
        "\n",
        "[Some report of Oscar](https://www.microsoft.com/en-us/research/blog/objects-are-the-secret-key-to-revealing-the-world-between-vision-and-language/)"
      ]
    },
    {
      "cell_type": "code",
      "execution_count": 2,
      "metadata": {
        "colab": {
          "base_uri": "https://localhost:8080/"
        },
        "id": "A4pr4cS6OG6U",
        "outputId": "039fba18-1437-4e6c-8f03-e473020b928d"
      },
      "outputs": [
        {
          "name": "stdout",
          "output_type": "stream",
          "text": [
            "--2023-01-05 09:35:13--  https://biglmdiag.blob.core.windows.net/oscar/datasets/coco_caption.zip\n",
            "Resolving biglmdiag.blob.core.windows.net (biglmdiag.blob.core.windows.net)... 52.240.48.36\n",
            "Connecting to biglmdiag.blob.core.windows.net (biglmdiag.blob.core.windows.net)|52.240.48.36|:443... connected.\n",
            "HTTP request sent, awaiting response... 200 OK\n",
            "Length: 23943475936 (22G) [application/zip]\n",
            "Saving to: ‘coco_caption.zip’\n",
            "\n",
            "coco_caption.zip     21%[===>                ]   4.81G  98.3MB/s    eta 3m 5s  ^C\n",
            "Archive:  coco_caption.zip\n",
            "  End-of-central-directory signature not found.  Either this file is not\n",
            "  a zipfile, or it constitutes one disk of a multi-part archive.  In the\n",
            "  latter case the central directory and zipfile comment will be found on\n",
            "  the last disk(s) of this archive.\n",
            "unzip:  cannot find zipfile directory in one of coco_caption.zip or\n",
            "        coco_caption.zip.zip, and cannot find coco_caption.zip.ZIP, period.\n"
          ]
        }
      ],
      "source": [
        "!wget https://biglmdiag.blob.core.windows.net/oscar/pretrained_models/large-vg-labels.zip\n",
        "!unzip large-vg-labels.zip -d $MODEL_DIR\n",
        "#MODEL_NAME could be base-vg-labels, large-vg-labels, base-oid-labels, base-no-labels."
      ]
    }
  ],
  "metadata": {
    "colab": {
      "authorship_tag": "ABX9TyMk+3nNDM8y1Texy1byNPCn",
      "include_colab_link": true,
      "provenance": []
    },
    "kernelspec": {
      "display_name": ".venv",
      "language": "python",
      "name": "python3"
    },
    "language_info": {
      "name": "python",
      "version": "3.8.9 (default, Apr 13 2022, 08:48:07) \n[Clang 13.1.6 (clang-1316.0.21.2.5)]"
    },
    "vscode": {
      "interpreter": {
        "hash": "29ebd6817ea1d831287f471fe6d18b535fc36e14152d59be72d309c6e682463d"
      }
    }
  },
  "nbformat": 4,
  "nbformat_minor": 0
}
