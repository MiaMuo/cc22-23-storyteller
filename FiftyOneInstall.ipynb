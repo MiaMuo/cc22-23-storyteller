{
  "nbformat": 4,
  "nbformat_minor": 0,
  "metadata": {
    "colab": {
      "provenance": [],
      "authorship_tag": "ABX9TyPW5o1dExmbmv1YQVFJlCDo",
      "include_colab_link": true
    },
    "kernelspec": {
      "name": "python3",
      "display_name": "Python 3"
    },
    "language_info": {
      "name": "python"
    }
  },
  "cells": [
    {
      "cell_type": "markdown",
      "metadata": {
        "id": "view-in-github",
        "colab_type": "text"
      },
      "source": [
        "<a href=\"https://colab.research.google.com/github/MiaMuo/cc22-23-storyteller/blob/main/FiftyOneInstall.ipynb\" target=\"_parent\"><img src=\"https://colab.research.google.com/assets/colab-badge.svg\" alt=\"Open In Colab\"/></a>"
      ]
    },
    {
      "cell_type": "markdown",
      "source": [
        "Instruction to instll fiftyone, which includes datasets like COCO dataset...\n",
        "https://voxel51.com/docs/fiftyone/getting_started/install.html\n",
        "\n",
        "it is recommended to install in virtual enviroment\n",
        "\n"
      ],
      "metadata": {
        "id": "MKPOuMDZHnHj"
      }
    },
    {
      "cell_type": "code",
      "source": [
        "!git clone https://github.com/voxel51/fiftyone.git"
      ],
      "metadata": {
        "colab": {
          "base_uri": "https://localhost:8080/"
        },
        "id": "hqHhPPL7GCT9",
        "outputId": "18372dc3-dce8-4552-b355-fbd7ad526281"
      },
      "execution_count": 3,
      "outputs": [
        {
          "output_type": "stream",
          "name": "stdout",
          "text": [
            "fatal: destination path 'fiftyone' already exists and is not an empty directory.\n"
          ]
        }
      ]
    },
    {
      "cell_type": "markdown",
      "source": [
        "!pip3 install aiofiles==0.7.0\n",
        "!pip3 install argcomplete==1.11.0\n",
        "!pip3 install boto3==1.17.36\n",
        "!pip3 install dacite==1.6.0\n",
        "!pip3 install Deprecated==1.2.11\n",
        "!pip3 install eventlet==0.31.0\n",
        "!pip3 install Flask==1.1.2\n",
        "!pip3 install httpx==0.23.0\n",
        "!pip3 install hypercorn==0.13.2\n",
        "!pip3 install Jinja2==3.0.3\n",
        "!pip3 install kaleido==0.2.1\n",
        "!pip3 install matplotlib==3.5.2\n",
        "!pip3 install mongoengine==0.24.2\n",
        "!pip3 install motor>=2.3\n",
        "!pip3 install ndjson==0.3.1\n",
        "!pip3 install packaging==20.3\n",
        "!pip3 install pandas>=1.3\n",
        "!pip3 install plotly==5.9.0\n",
        "!pip3 install pprintpp==0.4.0\n",
        "!pip3 install psutil>=5.7.0\n",
        "!pip3 install pymongo>=3.11\n",
        "!pip3 install pytz==2022.1\n",
        "!pip3 install PyYAML==5.4\n",
        "!pip3 install retrying>=1.3.3\n",
        "!pip3 install scikit-learn>=0.23.2\n",
        "!pip3 install scikit-image>=0.16.2\n",
        "!pip3 install setuptools>=45.2.0\n",
        "!pip3 install sseclient-py>=1.7.2\n",
        "!pip3 install sse-starlette>=0.10.3\n",
        "!pip3 install starlette==0.20.4\n",
        "!pip3 install strawberry-graphql==0.138.1\n",
        "!pip3 install tabulate==0.8.10\n",
        "!pip3 install universal-analytics-python3==1.0.1\n",
        "!pip3 install xmltodict==0.12.0\n",
        "\n",
        "!pip3 install fiftyone\n"
      ],
      "metadata": {
        "id": "TvW_4ZVPGbna"
      }
    }
  ]
}