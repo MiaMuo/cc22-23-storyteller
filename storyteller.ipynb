{
  "nbformat": 4,
  "nbformat_minor": 0,
  "metadata": {
    "colab": {
      "provenance": [],
      "authorship_tag": "ABX9TyNIa7qzMMb3AbDFIUNKOoUr",
      "include_colab_link": true
    },
    "kernelspec": {
      "name": "python3",
      "display_name": "Python 3"
    },
    "language_info": {
      "name": "python"
    }
  },
  "cells": [
    {
      "cell_type": "markdown",
      "metadata": {
        "id": "view-in-github",
        "colab_type": "text"
      },
      "source": [
        "<a href=\"https://colab.research.google.com/github/MiaMuo/cc22-23-storyteller/blob/main/storyteller.ipynb\" target=\"_parent\"><img src=\"https://colab.research.google.com/assets/colab-badge.svg\" alt=\"Open In Colab\"/></a>"
      ]
    },
    {
      "cell_type": "code",
      "execution_count": null,
      "metadata": {
        "id": "7Vg0Ff7qBoGa"
      },
      "outputs": [],
      "source": [
        "!git clone https://github.com/MiaMuo/cc22-23-storyteller.git"
      ]
    },
    {
      "cell_type": "code",
      "source": [
        "!pip3 install -r cc22-23-storyteller/src/requirements.txt"
      ],
      "metadata": {
        "id": "0jYqeMDaB0_h"
      },
      "execution_count": null,
      "outputs": []
    },
    {
      "cell_type": "code",
      "source": [
        "import openai\n",
        "openai.api_key = input(\"Enter your OpenAI key here! \")"
      ],
      "metadata": {
        "id": "A7dIZ45VCf-7"
      },
      "execution_count": null,
      "outputs": []
    },
    {
      "cell_type": "code",
      "source": [
        "!ls\n",
        "import os\n",
        "os.chdir(\"cc22-23-storyteller/src\")"
      ],
      "metadata": {
        "id": "QIEMDQz8C-8N"
      },
      "execution_count": null,
      "outputs": []
    },
    {
      "cell_type": "code",
      "source": [
        "# PLEASE READ COMMENT!\n",
        "!pip3 install --upgrade --force-reinstall pillow # IMPORTANT! This will prompt to \"Restart Runtime\". Do that, and re-execute the whole file. (The next time, don't restart the runtime.)\n",
        "# This is a fix for this bug in Pillow: https://stackoverflow.com/a/53069135"
      ],
      "metadata": {
        "id": "oSPm-UWvQ9mh"
      },
      "execution_count": null,
      "outputs": []
    },
    {
      "cell_type": "code",
      "source": [
        "from main import main"
      ],
      "metadata": {
        "id": "FHm8zdXMRU1B"
      },
      "execution_count": null,
      "outputs": []
    },
    {
      "cell_type": "code",
      "source": [
        "from google.colab import files\n",
        "uploaded = files.upload()\n",
        "filenames=[key for key in uploaded.keys()]"
      ],
      "metadata": {
        "id": "8FcebYfMHY-Y"
      },
      "execution_count": null,
      "outputs": []
    },
    {
      "cell_type": "code",
      "source": [
        "print(main(filenames)) #IMPORTANT: IF IT COMPLAINS ABOUT NO OPENAI KEY, RUN THAT STEP AGAIN!"
      ],
      "metadata": {
        "id": "rBeucWaCOtQ8"
      },
      "execution_count": null,
      "outputs": []
    }
  ]
}